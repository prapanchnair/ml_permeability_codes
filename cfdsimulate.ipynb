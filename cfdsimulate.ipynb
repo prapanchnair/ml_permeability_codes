{
 "cells": [
  {
   "cell_type": "code",
   "execution_count": null,
   "metadata": {},
   "outputs": [
    {
     "name": "stdout",
     "output_type": "stream",
     "text": [
      "Percent: [---------------] 0.99%  3856.2 minn"
     ]
    }
   ],
   "source": [
    "from shapes import *\n",
    "\n",
    "# README\n",
    "# We simulate for 10 different values of pressure gradient, listed below.\n",
    "# for each dp value, the simulate_flow function will genenrate the corresponding simulation\n",
    "# folder. It will also copy parameter files etc automatically.\n",
    "# Feel free to split this dp list into smaller lists if you plan to run on \n",
    "# different machines. \n",
    "dp = [ 0.0000000005, \n",
    "       0.000000001, \n",
    "       0.000000002, \n",
    "       0.000000005, \n",
    "       0.00000001, \n",
    "       0.00000002, \n",
    "       0.00000005, \n",
    "       0.0000001, \n",
    "       0.0000002, \n",
    "       0.0000005 ]\n",
    "#for dp_val in dp:\n",
    "#    print(\"simulating for dp\", dp_val)\n",
    "    # README\n",
    "    # change the second parameter to reflect the directory which contains the \n",
    "    # shape coords. Note that /coords have to be explicitly mentioned.\n",
    "simulate_flow(dp[0],'shapes_low0/coords')\n",
    "print(\"end of cfd simulations\")\n"
   ]
  },
  {
   "cell_type": "code",
   "execution_count": null,
   "metadata": {},
   "outputs": [],
   "source": []
  },
  {
   "cell_type": "code",
   "execution_count": null,
   "metadata": {},
   "outputs": [],
   "source": []
  },
  {
   "cell_type": "code",
   "execution_count": null,
   "metadata": {},
   "outputs": [],
   "source": []
  }
 ],
 "metadata": {
  "kernelspec": {
   "display_name": "Python 3",
   "language": "python",
   "name": "python3"
  },
  "language_info": {
   "codemirror_mode": {
    "name": "ipython",
    "version": 3
   },
   "file_extension": ".py",
   "mimetype": "text/x-python",
   "name": "python",
   "nbconvert_exporter": "python",
   "pygments_lexer": "ipython3",
   "version": "3.6.8"
  }
 },
 "nbformat": 4,
 "nbformat_minor": 2
}
